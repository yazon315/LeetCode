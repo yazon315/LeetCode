{
 "cells": [
  {
   "cell_type": "markdown",
   "metadata": {},
   "source": [
    "# Решение задач ['LeetCode 75'](https://leetcode.com/studyplan/leetcode-75/) на LeetCode"
   ]
  },
  {
   "cell_type": "code",
   "execution_count": null,
   "metadata": {},
   "outputs": [],
   "source": [
    "# импорт библиотек\n",
    "\n",
    "import time\n",
    "import re\n",
    "import numpy as np\n",
    "\n",
    "from IPython.display import display"
   ]
  },
  {
   "cell_type": "markdown",
   "metadata": {},
   "source": [
    "## Array / String"
   ]
  },
  {
   "cell_type": "markdown",
   "metadata": {},
   "source": [
    "### Задача 1\n",
    "\n",
    "**1768. Merge Strings Alternately**\n",
    "\n",
    "You are given two strings word1 and word2. Merge the strings by adding letters in alternating order, starting with word1. If a string is longer than the other, append the additional letters onto the end of the merged string.\n",
    "\n",
    "Return the merged string.\n",
    "\n",
    "```text\n",
    "Example 1:\n",
    "    Input: word1 = \"abc\", word2 = \"pqr\"  \n",
    "    Output: \"apbqcr\"  \n",
    "    Explanation: The merged string will be merged as so:  \n",
    "    word1:  a   b   c  \n",
    "    word2:    p   q   r  \n",
    "    merged: a p b q c r  \n",
    "\n",
    "Example 2:\n",
    "    Input: word1 = \"ab\", word2 = \"pqrs\"  \n",
    "    Output: \"apbqrs\"  \n",
    "    Explanation: Notice that as word2 is longer, \"rs\" is appended to the end.  \n",
    "    word1:  a   b   \n",
    "    word2:    p   q   r   s  \n",
    "    merged: a p b q   r   s  \n",
    "\n",
    "Example 3:\n",
    "    Input: word1 = \"abcd\", word2 = \"pq\"  \n",
    "    Output: \"apbqcd\"  \n",
    "    Explanation: Notice that as word1 is longer, \"cd\" is appended to the end.  \n",
    "    word1:  a   b   c   d  \n",
    "    word2:    p   q   \n",
    "    merged: a p b q c   d  \n",
    "\n",
    "Constraints:\n",
    "\n",
    "- 1 <= word1.length, word2.length <= 100\n",
    "- word1 and word2 consist of lowercase English letters.\n",
    "\n",
    "```\n",
    "\n",
    "**Решение:**"
   ]
  },
  {
   "cell_type": "code",
   "execution_count": 12,
   "metadata": {},
   "outputs": [
    {
     "name": "stdout",
     "output_type": "stream",
     "text": [
      "apbqcrgg\n"
     ]
    }
   ],
   "source": [
    "# исходные данные\n",
    "word1 = \"abc\"\n",
    "word2 = \"pqrgg\"\n",
    "\n",
    "# вариант 1\n",
    "class Solution:\n",
    "    def mergeAlternately(self, word1: str, word2: str) -> str:\n",
    "        str = ''\n",
    "        lw1 = len(word1)\n",
    "        lw2 = len(word2)\n",
    "        if lw1 > lw2:\n",
    "            str_end = word1[lw2-lw1:]\n",
    "        elif lw2 > lw1:\n",
    "            str_end = word2[lw1-lw2:]\n",
    "        else:\n",
    "            str_end = ''\n",
    "        for i in range(int(((lw1+lw2)-abs(lw1-lw2))/2)):\n",
    "            str += (word1[i] + word2[i])\n",
    "        str += str_end\n",
    "        return str\n",
    "\n",
    "\n",
    "# вариант 2\n",
    "class Solution:\n",
    "    def mergeAlternately(self, word1: str, word2: str) -> str:\n",
    "        str = ''\n",
    "        for i in range(min(len(word1), len(word2))):\n",
    "            str += (word1[i] + word2[i])\n",
    "        if len(word1) > len(word2):\n",
    "            str += word1[i+1:]\n",
    "        elif len(word1) < len(word2):\n",
    "            str += word2[i+1:]\n",
    "        return str\n",
    "\n",
    "print(Solution().mergeAlternately(word1, word2))"
   ]
  }
 ],
 "metadata": {
  "kernelspec": {
   "display_name": "base",
   "language": "python",
   "name": "python3"
  },
  "language_info": {
   "codemirror_mode": {
    "name": "ipython",
    "version": 3
   },
   "file_extension": ".py",
   "mimetype": "text/x-python",
   "name": "python",
   "nbconvert_exporter": "python",
   "pygments_lexer": "ipython3",
   "version": "3.10.12"
  },
  "orig_nbformat": 4
 },
 "nbformat": 4,
 "nbformat_minor": 2
}
