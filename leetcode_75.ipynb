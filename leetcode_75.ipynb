{
 "cells": [
  {
   "cell_type": "markdown",
   "metadata": {},
   "source": [
    "# Решение задач ['LeetCode 75'](https://leetcode.com/studyplan/leetcode-75/) на LeetCode"
   ]
  },
  {
   "cell_type": "code",
   "execution_count": 1,
   "metadata": {},
   "outputs": [],
   "source": [
    "# импорт библиотек\n",
    "\n",
    "import time\n",
    "import re\n",
    "import numpy as np\n",
    "\n",
    "from IPython.display import display"
   ]
  },
  {
   "cell_type": "markdown",
   "metadata": {},
   "source": [
    "## Array / String"
   ]
  },
  {
   "cell_type": "markdown",
   "metadata": {},
   "source": [
    "### Задача 1\n",
    "\n",
    "**1768. Merge Strings Alternately**\n",
    "\n",
    "You are given two strings word1 and word2. Merge the strings by adding letters in alternating order, starting with word1. If a string is longer than the other, append the additional letters onto the end of the merged string.\n",
    "\n",
    "Return the merged string.\n",
    "\n",
    "```text\n",
    "Example 1:\n",
    "    Input: word1 = \"abc\", word2 = \"pqr\"  \n",
    "    Output: \"apbqcr\"  \n",
    "    Explanation: The merged string will be merged as so:  \n",
    "    word1:  a   b   c  \n",
    "    word2:    p   q   r  \n",
    "    merged: a p b q c r  \n",
    "\n",
    "Example 2:\n",
    "    Input: word1 = \"ab\", word2 = \"pqrs\"  \n",
    "    Output: \"apbqrs\"  \n",
    "    Explanation: Notice that as word2 is longer, \"rs\" is appended to the end.  \n",
    "    word1:  a   b   \n",
    "    word2:    p   q   r   s  \n",
    "    merged: a p b q   r   s  \n",
    "\n",
    "Example 3:\n",
    "    Input: word1 = \"abcd\", word2 = \"pq\"  \n",
    "    Output: \"apbqcd\"  \n",
    "    Explanation: Notice that as word1 is longer, \"cd\" is appended to the end.  \n",
    "    word1:  a   b   c   d  \n",
    "    word2:    p   q   \n",
    "    merged: a p b q c   d  \n",
    "```\n",
    "\n",
    "Constraints:\n",
    "\n",
    "- $1 <=$ word1.length, word2.length $<= 100$\n",
    "- word1 and word2 consist of lowercase English letters.\n",
    "\n",
    "\n",
    "\n",
    "**Решение:**"
   ]
  },
  {
   "cell_type": "code",
   "execution_count": 6,
   "metadata": {},
   "outputs": [
    {
     "name": "stdout",
     "output_type": "stream",
     "text": [
      "Input:\n",
      "abc\n",
      "pqrgg\n",
      "\n",
      "Output:\n",
      "apbqcrgg\n"
     ]
    }
   ],
   "source": [
    "# исходные данные\n",
    "print('Input:')\n",
    "word1 = \"abc\"\n",
    "word2 = \"pqrgg\"\n",
    "print(word1)\n",
    "print(word2)\n",
    "\n",
    "# решение\n",
    "# вариант 1\n",
    "class Solution:\n",
    "    def mergeAlternately(self, word1: str, word2: str) -> str:\n",
    "        str = ''\n",
    "        lw1 = len(word1)\n",
    "        lw2 = len(word2)\n",
    "        if lw1 > lw2:\n",
    "            str_end = word1[lw2-lw1:]\n",
    "        elif lw2 > lw1:\n",
    "            str_end = word2[lw1-lw2:]\n",
    "        else:\n",
    "            str_end = ''\n",
    "        for i in range(int(((lw1+lw2)-abs(lw1-lw2))/2)):\n",
    "            str += (word1[i] + word2[i])\n",
    "        str += str_end\n",
    "        return str\n",
    "\n",
    "\n",
    "# вариант 2\n",
    "class Solution:\n",
    "    def mergeAlternately(self, word1: str, word2: str) -> str:\n",
    "        str = ''\n",
    "        for i in range(min(len(word1), len(word2))):\n",
    "            str += (word1[i] + word2[i])\n",
    "        if len(word1) > len(word2):\n",
    "            str += word1[i+1:]\n",
    "        elif len(word1) < len(word2):\n",
    "            str += word2[i+1:]\n",
    "        return str\n",
    "\n",
    "print('\\nOutput:')\n",
    "print(Solution().mergeAlternately(word1, word2))"
   ]
  },
  {
   "cell_type": "markdown",
   "metadata": {},
   "source": [
    "## Дополнительные задачи"
   ]
  },
  {
   "cell_type": "markdown",
   "metadata": {},
   "source": [
    "- [**135. Candy**](https://leetcode.com/problems/candy/description/)\n",
    "\n",
    "There are n children standing in a line. Each child is assigned a rating value given in the integer array ratings.\n",
    "\n",
    "You are giving candies to these children subjected to the following requirements:\n",
    "\n",
    "Each child must have at least one candy.\n",
    "Children with a higher rating get more candies than their neighbors.\n",
    "Return the minimum number of candies you need to have to distribute the candies to the children.\n",
    "\n",
    "```text\n",
    "Example 1:\n",
    "\n",
    "Input: ratings = [1,0,2]\n",
    "Output: 5\n",
    "Explanation: You can allocate to the first, second and third child with 2, 1, 2 candies respectively.\n",
    "Example 2:\n",
    "\n",
    "Input: ratings = [1,2,2]\n",
    "Output: 4\n",
    "Explanation: You can allocate to the first, second and third child with 1, 2, 1 candies respectively.\n",
    "The third child gets 1 candy because it satisfies the above two conditions.\n",
    "```\n",
    "\n",
    "Constraints:\n",
    "\n",
    "- $n ==$ ratings.length\n",
    "- $1 <=$ n $<= 2 * 104$\n",
    "- $0 <=$ ratings[i] $<= 2 * 104$\n",
    "\n",
    "\n",
    "**Решение:**"
   ]
  },
  {
   "cell_type": "code",
   "execution_count": 7,
   "metadata": {},
   "outputs": [
    {
     "name": "stdout",
     "output_type": "stream",
     "text": [
      "Input:\n",
      "[29, 51, 87, 87, 72, 12]\n",
      "\n",
      "Output:\n",
      "12\n"
     ]
    }
   ],
   "source": [
    "# исходные данные\n",
    "print('Input:')\n",
    "ratings = [29,51,87,87,72,12]\n",
    "print(ratings)\n",
    "\n",
    "# решение\n",
    "class Solution:\n",
    "    def candy(self, ratings: list[int]) -> int:\n",
    "        if len(ratings) == 1:\n",
    "            return 1\n",
    "        candies = []\n",
    "        cc = 0\n",
    "        candies.append(cc)\n",
    "        for i in range(1, len(ratings)):\n",
    "            if (ratings[i] > ratings[i-1]):\n",
    "                cc += 1\n",
    "                candies.append(cc)\n",
    "            else:\n",
    "                cc = 0\n",
    "                candies.append(cc)\n",
    "        for i in range(2, len(ratings)):\n",
    "            if (ratings[-i] > ratings[-i+1]) and (ratings[-i-1] >= ratings[-i]):\n",
    "                cc += 1\n",
    "                candies[-i] = cc\n",
    "            elif (ratings[-i] > ratings[-i+1]) and (ratings[-i-1] < ratings[-i]):\n",
    "                cc += 1\n",
    "                if cc > candies[-i]:\n",
    "                    candies[-i] = cc\n",
    "            else:\n",
    "                cc = 0\n",
    "        if ratings[0] > ratings[1]:\n",
    "            cc += 1\n",
    "            candies[0] = cc\n",
    "        return sum(candies) + len(ratings)\n",
    "\n",
    "print('\\nOutput:')\n",
    "print(Solution().candy(ratings))"
   ]
  },
  {
   "cell_type": "markdown",
   "metadata": {},
   "source": [
    "- [**4. Median of Two Sorted Arrays**](https://leetcode.com/problems/median-of-two-sorted-arrays/description/)\n",
    "\n",
    "Given two sorted arrays nums1 and nums2 of size m and n respectively, return the median of the two sorted arrays.\n",
    "\n",
    "The overall run time complexity should be O(log (m+n)).\n",
    "\n",
    "```text\n",
    "Example 1:\n",
    "\n",
    "Input: nums1 = [1,3], nums2 = [2]\n",
    "Output: 2.00000\n",
    "Explanation: merged array = [1,2,3] and median is 2.\n",
    "Example 2:\n",
    "\n",
    "Input: nums1 = [1,2], nums2 = [3,4]\n",
    "Output: 2.50000\n",
    "Explanation: merged array = [1,2,3,4] and median is (2 + 3) / 2 = 2.5.\n",
    "```\n",
    "\n",
    "Constraints:\n",
    "\n",
    "- nums1.length $==$ m\n",
    "- nums2.length $==$ n\n",
    "- $0 <=$ m $<= 1000$\n",
    "- $0 <=$ n $<= 1000$\n",
    "- $1 <=$ m + n $<= 2000$\n",
    "- $-10^6 <=$ nums1[i], nums2[i] $<= 10^6$\n",
    "\n",
    "\n",
    "**Решение:**"
   ]
  },
  {
   "cell_type": "code",
   "execution_count": 19,
   "metadata": {},
   "outputs": [
    {
     "name": "stdout",
     "output_type": "stream",
     "text": [
      "Input:\n",
      "[1, 2]\n",
      "[3, 4]\n",
      "\n",
      "Output:\n",
      "2.5\n"
     ]
    }
   ],
   "source": [
    "# исходные данные\n",
    "print('Input:')\n",
    "nums1 = [1,2]\n",
    "nums2 = [3,4]\n",
    "print(nums1)\n",
    "print(nums2)\n",
    "\n",
    "# решение\n",
    "# вариант 1\n",
    "class Solution:\n",
    "    def findMedianSortedArrays(self, nums1: list[int], nums2: list[int]) -> float:\n",
    "        l = len(nums1) + len(nums2)\n",
    "\n",
    "        nums = sorted(nums2 + nums1)\n",
    "        \n",
    "        if l % 2 == 1:\n",
    "            return nums[l // 2]\n",
    "        else:\n",
    "            return (nums[l // 2] + nums[l // 2 - 1]) / 2\n",
    "\n",
    "# вариант 2\n",
    "class Solution:\n",
    "    def findMedianSortedArrays(self, nums1: list[int], nums2: list[int]) -> float:\n",
    "        l = len(nums1) + len(nums2)\n",
    "        nums = []\n",
    "        i, j = 0, 0\n",
    "\n",
    "        while len(nums) <= l // 2:\n",
    "            if i < len(nums1) and j < len(nums2):\n",
    "                if nums1[i] < nums2[j]:\n",
    "                    nums.append(nums1[i])\n",
    "                    i += 1\n",
    "                else:\n",
    "                    nums.append(nums2[j])\n",
    "                    j += 1\n",
    "            else:\n",
    "                if i >= len(nums1):\n",
    "                    nums.append(nums2[j])\n",
    "                    j += 1\n",
    "                else:\n",
    "                    nums.append(nums1[i])\n",
    "                    i += 1\n",
    "            \n",
    "        if l % 2 == 1:\n",
    "            return nums[l // 2]\n",
    "        else:\n",
    "            return (nums[l // 2] + nums[l // 2 - 1]) / 2\n",
    "\n",
    "print('\\nOutput:')\n",
    "print(Solution().findMedianSortedArrays(nums1, nums2))"
   ]
  },
  {
   "cell_type": "markdown",
   "metadata": {},
   "source": [
    "***\n",
    "\n",
    "## Проработка и тестирование решений"
   ]
  },
  {
   "cell_type": "markdown",
   "metadata": {},
   "source": [
    "### Датасеты для задачи:"
   ]
  },
  {
   "cell_type": "code",
   "execution_count": 15,
   "metadata": {},
   "outputs": [],
   "source": [
    "nums1 = [1,4,5,6,7]\n",
    "nums2 = [2,3,8,9,10]\n",
    "\n"
   ]
  },
  {
   "cell_type": "markdown",
   "metadata": {},
   "source": [
    "### Решение задачи:"
   ]
  },
  {
   "cell_type": "code",
   "execution_count": 17,
   "metadata": {},
   "outputs": [
    {
     "name": "stdout",
     "output_type": "stream",
     "text": [
      "[1]\n",
      "[1, 2]\n",
      "[1, 2, 3]\n",
      "[1, 2, 3, 4]\n",
      "[1, 2, 3, 4, 5]\n",
      "[1, 2, 3, 4, 5, 6]\n",
      "5.5\n"
     ]
    }
   ],
   "source": [
    "l = len(nums1) + len(nums2)\n",
    "nums = []\n",
    "i, j = 0, 0\n",
    "\n",
    "while len(nums) <= l // 2:\n",
    "    if i < len(nums1) and j < len(nums2):\n",
    "        if nums1[i] < nums2[j]:\n",
    "            nums.append(nums1[i])\n",
    "            print(nums)\n",
    "            i += 1\n",
    "        else:\n",
    "            nums.append(nums2[j])\n",
    "            print(nums)\n",
    "            j += 1\n",
    "    else:\n",
    "        if i >= len(nums1):\n",
    "            nums.append(nums2[j])\n",
    "            print(nums)\n",
    "            j += 1\n",
    "        else:\n",
    "            nums.append(nums1[i])\n",
    "            print(nums)\n",
    "            i += 1\n",
    "    \n",
    "if l % 2 == 1:\n",
    "    print(nums[l // 2])\n",
    "else:\n",
    "    print((nums[l // 2] + nums[l // 2 - 1]) / 2)"
   ]
  },
  {
   "cell_type": "code",
   "execution_count": 8,
   "metadata": {},
   "outputs": [
    {
     "data": {
      "text/plain": [
       "[1, 3, 5, 4, 7, 6, 8, 2, 9]"
      ]
     },
     "execution_count": 8,
     "metadata": {},
     "output_type": "execute_result"
    }
   ],
   "source": [
    "merged"
   ]
  },
  {
   "cell_type": "code",
   "execution_count": 33,
   "metadata": {},
   "outputs": [
    {
     "name": "stdout",
     "output_type": "stream",
     "text": [
      "2.5\n"
     ]
    }
   ],
   "source": [
    "l = len(nums1) + len(nums2)\n",
    "\n",
    "nums = sorted(nums2 + nums1)\n",
    "\n",
    "if l % 2 == 1:\n",
    "    print(nums[l // 2])\n",
    "else:\n",
    "    print((nums[l // 2] + nums[l // 2 - 1]) / 2)"
   ]
  },
  {
   "cell_type": "markdown",
   "metadata": {},
   "source": [
    "### Тестирование времени выполнения решения задачи:"
   ]
  },
  {
   "cell_type": "code",
   "execution_count": null,
   "metadata": {},
   "outputs": [
    {
     "name": "stdout",
     "output_type": "stream",
     "text": [
      "0.008232896327972411\n"
     ]
    }
   ],
   "source": [
    "# тест времени решения:\n",
    "time_fit = 0\n",
    "for i in range(1000):\n",
    "    start_time = time.time()\n",
    "\n",
    "    pd.DataFrame([insurance[~insurance.duplicated(subset=['lat', 'lon'], keep=False)][['pid', 'tiv_2016']].merge(insurance[insurance.duplicated(subset=['tiv_2015'], keep=False)][['pid', 'tiv_2016']])['tiv_2016'].sum().round(2)], columns=['tiv_2016'])\n",
    "    \n",
    "    time_fit += time.time() - start_time\n",
    "print(time_fit / 1000)"
   ]
  },
  {
   "cell_type": "markdown",
   "metadata": {},
   "source": [
    "***"
   ]
  }
 ],
 "metadata": {
  "kernelspec": {
   "display_name": "base",
   "language": "python",
   "name": "python3"
  },
  "language_info": {
   "codemirror_mode": {
    "name": "ipython",
    "version": 3
   },
   "file_extension": ".py",
   "mimetype": "text/x-python",
   "name": "python",
   "nbconvert_exporter": "python",
   "pygments_lexer": "ipython3",
   "version": "3.10.12"
  },
  "orig_nbformat": 4
 },
 "nbformat": 4,
 "nbformat_minor": 2
}
